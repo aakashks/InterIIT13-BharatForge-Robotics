{
 "cells": [
  {
   "cell_type": "code",
   "execution_count": null,
   "metadata": {},
   "outputs": [
    {
     "name": "stderr",
     "output_type": "stream",
     "text": [
      "Error updating database: HTTPConnectionPool(host='your_server_ip', port=8000): Max retries exceeded with url: /update_db (Caused by NameResolutionError(\"<urllib3.connection.HTTPConnection object at 0x11fd3cb20>: Failed to resolve 'your_server_ip' ([Errno 8] nodename nor servname provided, or not known)\"))\n"
     ]
    },
    {
     "name": "stdout",
     "output_type": "stream",
     "text": [
      "Error: HTTPConnectionPool(host='your_server_ip', port=8000): Max retries exceeded with url: /update_db (Caused by NameResolutionError(\"<urllib3.connection.HTTPConnection object at 0x11fd3cb20>: Failed to resolve 'your_server_ip' ([Errno 8] nodename nor servname provided, or not known)\"))\n"
     ]
    }
   ],
   "source": [
    "# client.py\n",
    "import requests\n",
    "from typing import List, Dict, Any\n",
    "import logging\n"
   ]
  },
  {
   "cell_type": "code",
   "execution_count": 6,
   "metadata": {},
   "outputs": [],
   "source": [
    "\n",
    "class EmbeddingClient:\n",
    "    def __init__(self, base_url: str = \"http://0.0.0.0:8000\"):\n",
    "        self.base_url = base_url\n",
    "        self.logger = logging.getLogger(__name__)\n",
    "\n",
    "    def update_db(self, \n",
    "                 pose_key: str,\n",
    "                 image_path: str,\n",
    "                 robot_name: str,\n",
    "                 timestamp: str,\n",
    "                 depth_image_path: str,\n",
    "                 pose: Dict[str, float | int]):\n",
    "        \"\"\"\n",
    "        Update the database with new pose data\n",
    "        \"\"\"\n",
    "        data = {\n",
    "            \"pose_key\": pose_key,\n",
    "            \"image_path\": image_path,\n",
    "            \"robot_name\": robot_name,\n",
    "            \"timestamp\": timestamp,\n",
    "            \"depth_image_path\": depth_image_path,\n",
    "            \"pose\": pose\n",
    "        }\n",
    "\n",
    "        try:\n",
    "            response = requests.post(f\"{self.base_url}/update_db\", json=data)\n",
    "            response.raise_for_status()\n",
    "            return response.json()\n",
    "        except requests.exceptions.RequestException as e:\n",
    "            self.logger.error(f\"Error updating database: {str(e)}\")\n",
    "            raise\n",
    "\n",
    "    def query_db(self, prompts: List[str], limit: int = 10):\n",
    "        \"\"\"\n",
    "        Query the database with prompts\n",
    "        \"\"\"\n",
    "        try:\n",
    "            response = requests.post(f\"{self.base_url}/query_db\", \n",
    "                                  json={\"prompts\": prompts, \"limit\": limit})\n",
    "            response.raise_for_status()\n",
    "            return response.json()\n",
    "        except requests.exceptions.RequestException as e:\n",
    "            self.logger.error(f\"Error querying database: {str(e)}\")\n",
    "            raise\n"
   ]
  },
  {
   "cell_type": "code",
   "execution_count": 10,
   "metadata": {},
   "outputs": [
    {
     "name": "stdout",
     "output_type": "stream",
     "text": [
      "Update result: {'message': 'Database updated successfully'}\n"
     ]
    }
   ],
   "source": [
    "\n",
    "\n",
    "client = EmbeddingClient(\"http://0.0.0.0:8000\")\n",
    "\n",
    "# Example update\n",
    "pose_data = {\n",
    "    \"x\": 1.0,\n",
    "    \"y\": 2.0,\n",
    "    \"z\": 3.0,\n",
    "    \"w\": 4.0\n",
    "}\n",
    "\n",
    "try:\n",
    "    # Update database\n",
    "    result = client.update_db(\n",
    "        pose_key=\"pose2\",\n",
    "        image_path=\"/home/ps2-mid/ws/images/10.png\",\n",
    "        robot_name=\"robot1\",\n",
    "        timestamp=\"2023-12-05T12:00:00\",\n",
    "        depth_image_path=\"/home/ps2-mid/ws/images/7.png\",\n",
    "        pose=pose_data\n",
    "    )\n",
    "    print(\"Update result:\", result)\n",
    "\n",
    "except Exception as e:\n",
    "    print(f\"Error: {str(e)}\")"
   ]
  },
  {
   "cell_type": "code",
   "execution_count": null,
   "metadata": {},
   "outputs": [],
   "source": []
  }
 ],
 "metadata": {
  "kernelspec": {
   "display_name": "temp",
   "language": "python",
   "name": "python3"
  },
  "language_info": {
   "codemirror_mode": {
    "name": "ipython",
    "version": 3
   },
   "file_extension": ".py",
   "mimetype": "text/x-python",
   "name": "python",
   "nbconvert_exporter": "python",
   "pygments_lexer": "ipython3",
   "version": "3.10.14"
  }
 },
 "nbformat": 4,
 "nbformat_minor": 2
}
