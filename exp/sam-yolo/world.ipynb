{
 "cells": [
  {
   "cell_type": "code",
   "execution_count": null,
   "metadata": {},
   "outputs": [
    {
     "name": "stdout",
     "output_type": "stream",
     "text": [
      "Downloading https://github.com/ultralytics/assets/releases/download/v8.3.0/yolov8s-world.pt to 'yolov8s-world.pt'...\n"
     ]
    },
    {
     "name": "stderr",
     "output_type": "stream",
     "text": [
      "100%|██████████| 25.9M/25.9M [00:33<00:00, 804kB/s] \n"
     ]
    },
    {
     "name": "stdout",
     "output_type": "stream",
     "text": [
      "\u001b[31m\u001b[1mrequirements:\u001b[0m Ultralytics requirement ['git+https://github.com/ultralytics/CLIP.git'] not found, attempting AutoUpdate...\n"
     ]
    },
    {
     "name": "stderr",
     "output_type": "stream",
     "text": [
      "  Running command git clone --filter=blob:none --quiet https://github.com/ultralytics/CLIP.git /tmp/pip-req-build-xrqg7yd0\n"
     ]
    },
    {
     "name": "stdout",
     "output_type": "stream",
     "text": [
      "Collecting git+https://github.com/ultralytics/CLIP.git\n",
      "  Cloning https://github.com/ultralytics/CLIP.git to /tmp/pip-req-build-xrqg7yd0\n",
      "  Resolved https://github.com/ultralytics/CLIP.git to commit 61a901215e3e7c706a2f32b5f9969f9dec2beaf9\n",
      "  Preparing metadata (setup.py): started\n",
      "  Preparing metadata (setup.py): finished with status 'done'\n",
      "Collecting ftfy (from clip==1.0)\n",
      "  Downloading ftfy-6.3.1-py3-none-any.whl.metadata (7.3 kB)\n",
      "Collecting regex (from clip==1.0)\n",
      "  Downloading regex-2024.11.6-cp310-cp310-manylinux_2_17_x86_64.manylinux2014_x86_64.whl.metadata (40 kB)\n",
      "Requirement already satisfied: tqdm in /home/darshan/miniconda3/envs/ps2_mid/lib/python3.10/site-packages (from clip==1.0) (4.67.1)\n",
      "Requirement already satisfied: torch in /home/darshan/miniconda3/envs/ps2_mid/lib/python3.10/site-packages (from clip==1.0) (2.5.1+cu121)\n",
      "Requirement already satisfied: torchvision in /home/darshan/miniconda3/envs/ps2_mid/lib/python3.10/site-packages (from clip==1.0) (0.20.1+cu121)\n",
      "Requirement already satisfied: wcwidth in /home/darshan/miniconda3/envs/ps2_mid/lib/python3.10/site-packages (from ftfy->clip==1.0) (0.2.13)\n",
      "Requirement already satisfied: filelock in /home/darshan/miniconda3/envs/ps2_mid/lib/python3.10/site-packages (from torch->clip==1.0) (3.13.1)\n",
      "Requirement already satisfied: typing-extensions>=4.8.0 in /home/darshan/miniconda3/envs/ps2_mid/lib/python3.10/site-packages (from torch->clip==1.0) (4.9.0)\n",
      "Requirement already satisfied: networkx in /home/darshan/miniconda3/envs/ps2_mid/lib/python3.10/site-packages (from torch->clip==1.0) (3.2.1)\n",
      "Requirement already satisfied: jinja2 in /home/darshan/miniconda3/envs/ps2_mid/lib/python3.10/site-packages (from torch->clip==1.0) (3.1.3)\n",
      "Requirement already satisfied: fsspec in /home/darshan/miniconda3/envs/ps2_mid/lib/python3.10/site-packages (from torch->clip==1.0) (2024.2.0)\n",
      "Requirement already satisfied: nvidia-cuda-nvrtc-cu12==12.1.105 in /home/darshan/miniconda3/envs/ps2_mid/lib/python3.10/site-packages (from torch->clip==1.0) (12.1.105)\n",
      "Requirement already satisfied: nvidia-cuda-runtime-cu12==12.1.105 in /home/darshan/miniconda3/envs/ps2_mid/lib/python3.10/site-packages (from torch->clip==1.0) (12.1.105)\n",
      "Requirement already satisfied: nvidia-cuda-cupti-cu12==12.1.105 in /home/darshan/miniconda3/envs/ps2_mid/lib/python3.10/site-packages (from torch->clip==1.0) (12.1.105)\n",
      "Requirement already satisfied: nvidia-cudnn-cu12==9.1.0.70 in /home/darshan/miniconda3/envs/ps2_mid/lib/python3.10/site-packages (from torch->clip==1.0) (9.1.0.70)\n",
      "Requirement already satisfied: nvidia-cublas-cu12==12.1.3.1 in /home/darshan/miniconda3/envs/ps2_mid/lib/python3.10/site-packages (from torch->clip==1.0) (12.1.3.1)\n",
      "Requirement already satisfied: nvidia-cufft-cu12==11.0.2.54 in /home/darshan/miniconda3/envs/ps2_mid/lib/python3.10/site-packages (from torch->clip==1.0) (11.0.2.54)\n",
      "Requirement already satisfied: nvidia-curand-cu12==10.3.2.106 in /home/darshan/miniconda3/envs/ps2_mid/lib/python3.10/site-packages (from torch->clip==1.0) (10.3.2.106)\n",
      "Requirement already satisfied: nvidia-cusolver-cu12==11.4.5.107 in /home/darshan/miniconda3/envs/ps2_mid/lib/python3.10/site-packages (from torch->clip==1.0) (11.4.5.107)\n",
      "Requirement already satisfied: nvidia-cusparse-cu12==12.1.0.106 in /home/darshan/miniconda3/envs/ps2_mid/lib/python3.10/site-packages (from torch->clip==1.0) (12.1.0.106)\n",
      "Requirement already satisfied: nvidia-nccl-cu12==2.21.5 in /home/darshan/miniconda3/envs/ps2_mid/lib/python3.10/site-packages (from torch->clip==1.0) (2.21.5)\n",
      "Requirement already satisfied: nvidia-nvtx-cu12==12.1.105 in /home/darshan/miniconda3/envs/ps2_mid/lib/python3.10/site-packages (from torch->clip==1.0) (12.1.105)\n",
      "Requirement already satisfied: triton==3.1.0 in /home/darshan/miniconda3/envs/ps2_mid/lib/python3.10/site-packages (from torch->clip==1.0) (3.1.0)\n",
      "Requirement already satisfied: sympy==1.13.1 in /home/darshan/miniconda3/envs/ps2_mid/lib/python3.10/site-packages (from torch->clip==1.0) (1.13.1)\n",
      "Requirement already satisfied: nvidia-nvjitlink-cu12 in /home/darshan/miniconda3/envs/ps2_mid/lib/python3.10/site-packages (from nvidia-cusolver-cu12==11.4.5.107->torch->clip==1.0) (12.1.105)\n",
      "Requirement already satisfied: mpmath<1.4,>=1.1.0 in /home/darshan/miniconda3/envs/ps2_mid/lib/python3.10/site-packages (from sympy==1.13.1->torch->clip==1.0) (1.3.0)\n",
      "Requirement already satisfied: numpy in /home/darshan/miniconda3/envs/ps2_mid/lib/python3.10/site-packages (from torchvision->clip==1.0) (1.26.3)\n",
      "Requirement already satisfied: pillow!=8.3.*,>=5.3.0 in /home/darshan/miniconda3/envs/ps2_mid/lib/python3.10/site-packages (from torchvision->clip==1.0) (10.2.0)\n",
      "Requirement already satisfied: MarkupSafe>=2.0 in /home/darshan/miniconda3/envs/ps2_mid/lib/python3.10/site-packages (from jinja2->torch->clip==1.0) (2.1.5)\n",
      "Downloading ftfy-6.3.1-py3-none-any.whl (44 kB)\n",
      "Downloading regex-2024.11.6-cp310-cp310-manylinux_2_17_x86_64.manylinux2014_x86_64.whl (781 kB)\n",
      "\u001b[2K   \u001b[90m━━━━━━━━━━━━━━━━━━━━━━━━━━━━━━━━━━━━━━━━\u001b[0m \u001b[32m781.7/781.7 kB\u001b[0m \u001b[31m28.1 MB/s\u001b[0m eta \u001b[36m0:00:00\u001b[0m\n",
      "\u001b[?25hBuilding wheels for collected packages: clip\n",
      "  Building wheel for clip (setup.py): started\n",
      "  Building wheel for clip (setup.py): finished with status 'done'\n",
      "  Created wheel for clip: filename=clip-1.0-py3-none-any.whl size=1382220 sha256=49f47023f6e20ef5ec4e9278a8f24cd96362fa0eaed2715d054e74f4e4528374\n",
      "  Stored in directory: /tmp/pip-ephem-wheel-cache-pujy36ds/wheels/2e/25/92/e26f2a227599930e19a8188891e9600b6dd36721a0f8d6ef40\n",
      "Successfully built clip\n",
      "Installing collected packages: regex, ftfy, clip\n",
      "Successfully installed clip-1.0 ftfy-6.3.1 regex-2024.11.6\n",
      "\n",
      "\u001b[31m\u001b[1mrequirements:\u001b[0m AutoUpdate success ✅ 52.7s, installed 1 package: ['git+https://github.com/ultralytics/CLIP.git']\n",
      "\u001b[31m\u001b[1mrequirements:\u001b[0m ⚠️ \u001b[1mRestart runtime or rerun command for updates to take effect\u001b[0m\n",
      "\n"
     ]
    },
    {
     "name": "stderr",
     "output_type": "stream",
     "text": [
      "100%|███████████████████████████████████████| 338M/338M [00:50<00:00, 7.04MiB/s]\n"
     ]
    }
   ],
   "source": [
    "from ultralytics import YOLOWorld\n",
    "\n",
    "# Initialize a YOLO-World model\n",
    "model = YOLOWorld(\"yolov8s-world.pt\")\n",
    "\n",
    "# Define custom classes\n",
    "model.set_classes([\"person\", \"bus\", \"fire extinguisher\", \"stairs\", \"carton\"])\n",
    "\n",
    "# Execute prediction on an image\n",
    "results = model.predict(\"image3.png\")\n",
    "\n",
    "# Show results\n",
    "results[0].show()"
   ]
  },
  {
   "cell_type": "code",
   "execution_count": null,
   "metadata": {},
   "outputs": [],
   "source": []
  }
 ],
 "metadata": {
  "kernelspec": {
   "display_name": "ps2_mid",
   "language": "python",
   "name": "python3"
  },
  "language_info": {
   "codemirror_mode": {
    "name": "ipython",
    "version": 3
   },
   "file_extension": ".py",
   "mimetype": "text/x-python",
   "name": "python",
   "nbconvert_exporter": "python",
   "pygments_lexer": "ipython3",
   "version": "3.10.15"
  }
 },
 "nbformat": 4,
 "nbformat_minor": 2
}
