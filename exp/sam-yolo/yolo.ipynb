{
 "cells": [
  {
   "cell_type": "code",
   "execution_count": null,
   "metadata": {},
   "outputs": [
    {
     "name": "stdout",
     "output_type": "stream",
     "text": [
      "\n",
      "image 1/1 /home/darshan/aks_test/object-detect/image2.png: 448x640 7 persons, 313.0ms\n",
      "Speed: 190.8ms preprocess, 313.0ms inference, 989.4ms postprocess per image at shape (1, 3, 448, 640)\n"
     ]
    }
   ],
   "source": [
    "from ultralytics import YOLOWorld\n",
    "\n",
    "# detect object and label it using yolo\n",
    "\n",
    "# image\n",
    "source = 'image3.png'\n",
    "\n",
    "# Initialize a YOLO-World model\n",
    "model = YOLOWorld(\"yolov8m-world.pt\")\n",
    "\n",
    "# Define custom classes\n",
    "model.set_classes([\"person\", \"bus\", \"fire extinguisher\", \"stairs\", \"extinguisher\"])\n",
    "\n",
    "\n",
    "# detect object\n",
    "results = model(source)\n"
   ]
  },
  {
   "cell_type": "code",
   "execution_count": 2,
   "metadata": {},
   "outputs": [
    {
     "name": "stdout",
     "output_type": "stream",
     "text": [
      "\n"
     ]
    },
    {
     "name": "stdout",
     "output_type": "stream",
     "text": [
      "image 1/1 /home/darshan/aks_test/object-detect/image2.png: 448x640 7 persons, 102.4ms\n",
      "Speed: 175.8ms preprocess, 102.4ms inference, 14.2ms postprocess per image at shape (1, 3, 448, 640)\n",
      "Results saved to \u001b[1mruns/detect/predict6\u001b[0m\n"
     ]
    },
    {
     "data": {
      "text/plain": [
       "[ultralytics.engine.results.Results object with attributes:\n",
       " \n",
       " boxes: ultralytics.engine.results.Boxes object\n",
       " keypoints: None\n",
       " masks: None\n",
       " names: {0: 'person', 1: 'bus', 2: 'fire extinguisher', 3: 'stairs', 4: 'extinguisher'}\n",
       " obb: None\n",
       " orig_img: array([[[142, 158, 165],\n",
       "         [142, 158, 165],\n",
       "         [142, 158, 165],\n",
       "         ...,\n",
       "         [104, 111, 108],\n",
       "         [104, 110, 109],\n",
       "         [103, 109, 108]],\n",
       " \n",
       "        [[142, 158, 165],\n",
       "         [142, 158, 165],\n",
       "         [142, 158, 165],\n",
       "         ...,\n",
       "         [104, 111, 108],\n",
       "         [104, 110, 109],\n",
       "         [104, 110, 109]],\n",
       " \n",
       "        [[143, 159, 166],\n",
       "         [143, 159, 166],\n",
       "         [143, 159, 166],\n",
       "         ...,\n",
       "         [106, 111, 109],\n",
       "         [105, 111, 110],\n",
       "         [105, 111, 110]],\n",
       " \n",
       "        ...,\n",
       " \n",
       "        [[167, 164, 156],\n",
       "         [167, 164, 156],\n",
       "         [167, 164, 156],\n",
       "         ...,\n",
       "         [157, 157, 157],\n",
       "         [157, 157, 157],\n",
       "         [156, 156, 156]],\n",
       " \n",
       "        [[167, 164, 156],\n",
       "         [167, 164, 156],\n",
       "         [167, 164, 156],\n",
       "         ...,\n",
       "         [156, 156, 156],\n",
       "         [155, 155, 155],\n",
       "         [155, 155, 155]],\n",
       " \n",
       "        [[167, 164, 156],\n",
       "         [167, 164, 156],\n",
       "         [167, 164, 156],\n",
       "         ...,\n",
       "         [155, 155, 155],\n",
       "         [154, 154, 154],\n",
       "         [154, 154, 154]]], dtype=uint8)\n",
       " orig_shape: (3648, 5472)\n",
       " path: '/home/darshan/aks_test/object-detect/image2.png'\n",
       " probs: None\n",
       " save_dir: 'runs/detect/predict6'\n",
       " speed: {'preprocess': 175.83727836608887, 'inference': 102.35810279846191, 'postprocess': 14.24717903137207}]"
      ]
     },
     "execution_count": 2,
     "metadata": {},
     "output_type": "execute_result"
    }
   ],
   "source": [
    "res = model.predict(source=source, save=True)\n",
    "res"
   ]
  }
 ],
 "metadata": {
  "kernelspec": {
   "display_name": "temp",
   "language": "python",
   "name": "python3"
  },
  "language_info": {
   "codemirror_mode": {
    "name": "ipython",
    "version": 3
   },
   "file_extension": ".py",
   "mimetype": "text/x-python",
   "name": "python",
   "nbconvert_exporter": "python",
   "pygments_lexer": "ipython3",
   "version": "3.10.14"
  }
 },
 "nbformat": 4,
 "nbformat_minor": 2
}
