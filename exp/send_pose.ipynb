{
 "cells": [
  {
   "cell_type": "code",
   "execution_count": 1,
   "metadata": {},
   "outputs": [],
   "source": [
    "import requests\n",
    "from typing import List, Dict, Any\n",
    "import logging\n",
    "\n",
    "class EmbeddingClient:\n",
    "    def __init__(self, base_url: str = \"http://0.0.0.0:8000\"):\n",
    "        self.base_url = base_url\n",
    "        self.logger = logging.getLogger(__name__)\n",
    "\n",
    "    def update_db(self, \n",
    "                 pose_key: str,\n",
    "                 image_path: str,\n",
    "                 robot_name: str,\n",
    "                 timestamp: str,\n",
    "                 depth_image_path: str,\n",
    "                 pose: Dict[str, float | int]):\n",
    "        \"\"\"\n",
    "        Update the database with new pose data\n",
    "        \"\"\"\n",
    "        data = {\n",
    "            \"pose_key\": pose_key,\n",
    "            \"image_path\": image_path,\n",
    "            \"robot_name\": robot_name,\n",
    "            \"timestamp\": timestamp,\n",
    "            \"depth_image_path\": depth_image_path,\n",
    "            \"pose\": pose\n",
    "        }\n",
    "\n",
    "        try:\n",
    "            response = requests.post(f\"{self.base_url}/update_db\", json=data)\n",
    "            response.raise_for_status()\n",
    "            return response.json()\n",
    "        except requests.exceptions.RequestException as e:\n",
    "            self.logger.error(f\"Error updating: {str(e)}\")\n",
    "            raise\n",
    "\n",
    "    def query_db(self, prompts: List[str], limit: int = 10):\n",
    "        \"\"\"\n",
    "        Query the database with prompts\n",
    "        \"\"\"\n",
    "        try:\n",
    "            response = requests.post(f\"{self.base_url}/query_db\", \n",
    "                                  json={\"prompts\": prompts, \"limit\": limit})\n",
    "            response.raise_for_status()\n",
    "            return response.json()\n",
    "        except requests.exceptions.RequestException as e:\n",
    "            self.logger.error(f\"Error querying: {str(e)}\")\n",
    "            raise\n"
   ]
  },
  {
   "cell_type": "code",
   "execution_count": 5,
   "metadata": {},
   "outputs": [
    {
     "data": {
      "text/plain": [
       "<__main__.EmbeddingClient at 0x105bc1a50>"
      ]
     },
     "execution_count": 5,
     "metadata": {},
     "output_type": "execute_result"
    }
   ],
   "source": [
    "client = EmbeddingClient('http://192.168.124.197:8002')\n",
    "client"
   ]
  },
  {
   "cell_type": "code",
   "execution_count": 8,
   "metadata": {},
   "outputs": [],
   "source": [
    "res = client.query_db(['bed'], limit=10)"
   ]
  },
  {
   "cell_type": "code",
   "execution_count": 11,
   "metadata": {},
   "outputs": [
    {
     "data": {
      "text/plain": [
       "[{'image': '4.png'},\n",
       " {'image': '10.png'},\n",
       " {'depth_image_path': '/home/ps2-mid/ws/images/7.png',\n",
       "  'image_path': '/home/ps2-mid/ws/images/10.png',\n",
       "  'pose_key': 'pose2',\n",
       "  'pose_w': 4.0,\n",
       "  'pose_x': 1.0,\n",
       "  'pose_y': 2.0,\n",
       "  'pose_z': 3.0,\n",
       "  'robot_name': 'robot1',\n",
       "  'timestamp': '2023-12-05T12:00:00'},\n",
       " {'image': '11.png'},\n",
       " {'image': '8.png'},\n",
       " {'image': '9.png'},\n",
       " {'image': '6.png'},\n",
       " {'image': '3.png'},\n",
       " {'image': '7.png'},\n",
       " {'depth_image_path': '/home/ps2-mid/ws/images/7.png',\n",
       "  'image_path': '/home/ps2-mid/ws/images/10.png',\n",
       "  'pose_key': 'pose1',\n",
       "  'pose_w': 4.0,\n",
       "  'pose_x': 1.0,\n",
       "  'pose_y': 2.0,\n",
       "  'pose_z': 3.0,\n",
       "  'robot_name': 'robot1',\n",
       "  'timestamp': '2023-12-05T12:00:00'}]"
      ]
     },
     "execution_count": 11,
     "metadata": {},
     "output_type": "execute_result"
    }
   ],
   "source": [
    "res['metadatas'][0]"
   ]
  },
  {
   "cell_type": "code",
   "execution_count": null,
   "metadata": {},
   "outputs": [],
   "source": []
  }
 ],
 "metadata": {
  "kernelspec": {
   "display_name": "temp",
   "language": "python",
   "name": "python3"
  },
  "language_info": {
   "codemirror_mode": {
    "name": "ipython",
    "version": 3
   },
   "file_extension": ".py",
   "mimetype": "text/x-python",
   "name": "python",
   "nbconvert_exporter": "python",
   "pygments_lexer": "ipython3",
   "version": "3.10.14"
  }
 },
 "nbformat": 4,
 "nbformat_minor": 2
}
