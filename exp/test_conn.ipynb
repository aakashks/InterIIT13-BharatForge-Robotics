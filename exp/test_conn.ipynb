{
 "cells": [
  {
   "cell_type": "code",
   "execution_count": 2,
   "metadata": {},
   "outputs": [],
   "source": [
    "import chromadb\n",
    "\n",
    "client = chromadb.HttpClient(host='localhost', port=8000)"
   ]
  },
  {
   "cell_type": "code",
   "execution_count": 5,
   "metadata": {},
   "outputs": [
    {
     "data": {
      "text/plain": [
       "{'ids': ['1.png',\n",
       "  '2.png',\n",
       "  '3.png',\n",
       "  '11.png',\n",
       "  '10.png',\n",
       "  '6.png',\n",
       "  '9.png',\n",
       "  '8.png',\n",
       "  '5.png',\n",
       "  '4.png'],\n",
       " 'embeddings': array([[-0.03186551, -0.00526475,  0.01522217, ...,  0.01205117,\n",
       "          0.00216442,  0.01391768],\n",
       "        [-0.01384529,  0.01899676,  0.0134215 , ...,  0.01068465,\n",
       "          0.04109004,  0.00724345],\n",
       "        [ 0.01968278, -0.00509655,  0.01231408, ...,  0.01080191,\n",
       "          0.00337644,  0.02253988],\n",
       "        ...,\n",
       "        [-0.00227846,  0.00516064, -0.01362989, ..., -0.00961111,\n",
       "          0.02656712, -0.01002438],\n",
       "        [-0.05602447,  0.00632979,  0.00162034, ..., -0.00805531,\n",
       "         -0.01110932,  0.01487015],\n",
       "        [-0.02196764,  0.01390246, -0.00051069, ...,  0.01787829,\n",
       "          0.0414509 ,  0.00279354]]),\n",
       " 'metadatas': [{'image_path': '/home/user1/s_ws/images/1.png'},\n",
       "  {'image_path': '/home/user1/s_ws/images/2.png'},\n",
       "  {'image_path': '/home/user1/s_ws/images/3.png'},\n",
       "  {'image_path': '/home/user1/s_ws/images/11.png'},\n",
       "  {'image_path': '/home/user1/s_ws/images/10.png'},\n",
       "  {'image_path': '/home/user1/s_ws/images/6.png'},\n",
       "  {'image_path': '/home/user1/s_ws/images/9.png'},\n",
       "  {'image_path': '/home/user1/s_ws/images/8.png'},\n",
       "  {'image_path': '/home/user1/s_ws/images/5.png'},\n",
       "  {'image_path': '/home/user1/s_ws/images/4.png'}],\n",
       " 'documents': [None, None, None, None, None, None, None, None, None, None],\n",
       " 'data': None,\n",
       " 'uris': None,\n",
       " 'included': ['embeddings', 'documents', 'metadatas']}"
      ]
     },
     "execution_count": 5,
     "metadata": {},
     "output_type": "execute_result"
    }
   ],
   "source": [
    "client.get_collection('test1').peek(10)"
   ]
  },
  {
   "cell_type": "code",
   "execution_count": null,
   "metadata": {},
   "outputs": [],
   "source": []
  }
 ],
 "metadata": {
  "kernelspec": {
   "display_name": "temp",
   "language": "python",
   "name": "python3"
  },
  "language_info": {
   "codemirror_mode": {
    "name": "ipython",
    "version": 3
   },
   "file_extension": ".py",
   "mimetype": "text/x-python",
   "name": "python",
   "nbconvert_exporter": "python",
   "pygments_lexer": "ipython3",
   "version": "3.10.14"
  }
 },
 "nbformat": 4,
 "nbformat_minor": 2
}
