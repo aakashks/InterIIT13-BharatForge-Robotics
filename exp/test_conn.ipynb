{
 "cells": [
  {
   "cell_type": "code",
   "execution_count": 3,
   "metadata": {},
   "outputs": [],
   "source": [
    "import chromadb\n",
    "\n",
    "client = chromadb.HttpClient(host='localhost', port=8000)"
   ]
  },
  {
   "cell_type": "code",
   "execution_count": 4,
   "metadata": {},
   "outputs": [
    {
     "data": {
      "text/plain": [
       "{'ids': ['1.png',\n",
       "  '2.png',\n",
       "  '3.png',\n",
       "  '11.png',\n",
       "  '10.png',\n",
       "  '6.png',\n",
       "  '9.png',\n",
       "  '8.png',\n",
       "  '5.png',\n",
       "  '4.png'],\n",
       " 'embeddings': array([[-0.03186551, -0.00526475,  0.01522217, ...,  0.01205117,\n",
       "          0.00216442,  0.01391768],\n",
       "        [-0.01384529,  0.01899676,  0.0134215 , ...,  0.01068465,\n",
       "          0.04109004,  0.00724345],\n",
       "        [ 0.01968278, -0.00509655,  0.01231408, ...,  0.01080191,\n",
       "          0.00337644,  0.02253988],\n",
       "        ...,\n",
       "        [-0.00227846,  0.00516064, -0.01362989, ..., -0.00961111,\n",
       "          0.02656712, -0.01002438],\n",
       "        [-0.05602447,  0.00632979,  0.00162034, ..., -0.00805531,\n",
       "         -0.01110932,  0.01487015],\n",
       "        [-0.02196764,  0.01390246, -0.00051069, ...,  0.01787829,\n",
       "          0.0414509 ,  0.00279354]]),\n",
       " 'metadatas': [{'image_path': '/home/user1/s_ws/images/1.png'},\n",
       "  {'image_path': '/home/user1/s_ws/images/2.png'},\n",
       "  {'image_path': '/home/user1/s_ws/images/3.png'},\n",
       "  {'image_path': '/home/user1/s_ws/images/11.png'},\n",
       "  {'image_path': '/home/user1/s_ws/images/10.png'},\n",
       "  {'image_path': '/home/user1/s_ws/images/6.png'},\n",
       "  {'image_path': '/home/user1/s_ws/images/9.png'},\n",
       "  {'image_path': '/home/user1/s_ws/images/8.png'},\n",
       "  {'image_path': '/home/user1/s_ws/images/5.png'},\n",
       "  {'image_path': '/home/user1/s_ws/images/4.png'}],\n",
       " 'documents': [None, None, None, None, None, None, None, None, None, None],\n",
       " 'data': None,\n",
       " 'uris': None,\n",
       " 'included': ['embeddings', 'documents', 'metadatas']}"
      ]
     },
     "execution_count": 4,
     "metadata": {},
     "output_type": "execute_result"
    }
   ],
   "source": [
    "client.get_collection('test1').peek(10)"
   ]
  },
  {
   "cell_type": "code",
   "execution_count": 5,
   "metadata": {},
   "outputs": [],
   "source": [
    "from chromadb.utils.embedding_functions import OpenCLIPEmbeddingFunction\n",
    "from chromadb.utils.data_loaders import ImageLoader\n",
    "\n"
   ]
  },
  {
   "cell_type": "code",
   "execution_count": 7,
   "metadata": {},
   "outputs": [
    {
     "ename": "ValueError",
     "evalue": "The open_clip python package is not installed. Please install it with `pip install open-clip-torch`. https://github.com/mlfoundations/open_clip",
     "output_type": "error",
     "traceback": [
      "\u001b[0;31m---------------------------------------------------------------------------\u001b[0m",
      "\u001b[0;31mModuleNotFoundError\u001b[0m                       Traceback (most recent call last)",
      "File \u001b[0;32m/opt/homebrew/Caskroom/miniconda/base/envs/temp/lib/python3.10/site-packages/chromadb/utils/embedding_functions/open_clip_embedding_function.py:28\u001b[0m, in \u001b[0;36mOpenCLIPEmbeddingFunction.__init__\u001b[0;34m(self, model_name, checkpoint, device)\u001b[0m\n\u001b[1;32m     27\u001b[0m \u001b[38;5;28;01mtry\u001b[39;00m:\n\u001b[0;32m---> 28\u001b[0m     \u001b[38;5;28;01mimport\u001b[39;00m \u001b[38;5;21;01mopen_clip\u001b[39;00m\n\u001b[1;32m     29\u001b[0m \u001b[38;5;28;01mexcept\u001b[39;00m \u001b[38;5;167;01mImportError\u001b[39;00m:\n",
      "\u001b[0;31mModuleNotFoundError\u001b[0m: No module named 'open_clip'",
      "\nDuring handling of the above exception, another exception occurred:\n",
      "\u001b[0;31mValueError\u001b[0m                                Traceback (most recent call last)",
      "Cell \u001b[0;32mIn[7], line 1\u001b[0m\n\u001b[0;32m----> 1\u001b[0m collection \u001b[38;5;241m=\u001b[39m client\u001b[38;5;241m.\u001b[39mget_collection(\u001b[38;5;124m'\u001b[39m\u001b[38;5;124mtest1\u001b[39m\u001b[38;5;124m'\u001b[39m, embedding_function\u001b[38;5;241m=\u001b[39m\u001b[43mOpenCLIPEmbeddingFunction\u001b[49m\u001b[43m(\u001b[49m\u001b[43m)\u001b[49m, data_loader\u001b[38;5;241m=\u001b[39mImageLoader())\n\u001b[1;32m      2\u001b[0m collection\u001b[38;5;241m.\u001b[39mquery(\n\u001b[1;32m      3\u001b[0m     query_texts\u001b[38;5;241m=\u001b[39m\u001b[38;5;124m\"\u001b[39m\u001b[38;5;124mdustbin\u001b[39m\u001b[38;5;124m\"\u001b[39m,\n\u001b[1;32m      4\u001b[0m     n_results\u001b[38;5;241m=\u001b[39m\u001b[38;5;241m2\u001b[39m\n\u001b[1;32m      5\u001b[0m )\n",
      "File \u001b[0;32m/opt/homebrew/Caskroom/miniconda/base/envs/temp/lib/python3.10/site-packages/chromadb/utils/embedding_functions/open_clip_embedding_function.py:30\u001b[0m, in \u001b[0;36mOpenCLIPEmbeddingFunction.__init__\u001b[0;34m(self, model_name, checkpoint, device)\u001b[0m\n\u001b[1;32m     28\u001b[0m     \u001b[38;5;28;01mimport\u001b[39;00m \u001b[38;5;21;01mopen_clip\u001b[39;00m\n\u001b[1;32m     29\u001b[0m \u001b[38;5;28;01mexcept\u001b[39;00m \u001b[38;5;167;01mImportError\u001b[39;00m:\n\u001b[0;32m---> 30\u001b[0m     \u001b[38;5;28;01mraise\u001b[39;00m \u001b[38;5;167;01mValueError\u001b[39;00m(\n\u001b[1;32m     31\u001b[0m         \u001b[38;5;124m\"\u001b[39m\u001b[38;5;124mThe open_clip python package is not installed. Please install it with `pip install open-clip-torch`. https://github.com/mlfoundations/open_clip\u001b[39m\u001b[38;5;124m\"\u001b[39m\n\u001b[1;32m     32\u001b[0m     )\n\u001b[1;32m     33\u001b[0m \u001b[38;5;28;01mtry\u001b[39;00m:\n\u001b[1;32m     34\u001b[0m     \u001b[38;5;28mself\u001b[39m\u001b[38;5;241m.\u001b[39m_torch \u001b[38;5;241m=\u001b[39m importlib\u001b[38;5;241m.\u001b[39mimport_module(\u001b[38;5;124m\"\u001b[39m\u001b[38;5;124mtorch\u001b[39m\u001b[38;5;124m\"\u001b[39m)\n",
      "\u001b[0;31mValueError\u001b[0m: The open_clip python package is not installed. Please install it with `pip install open-clip-torch`. https://github.com/mlfoundations/open_clip"
     ]
    }
   ],
   "source": [
    "collection = client.get_collection('test1', embedding_function=OpenCLIPEmbeddingFunction(), data_loader=ImageLoader())\n",
    "collection.query(\n",
    "    query_texts=\"dustbin\",\n",
    "    n_results=2\n",
    ")"
   ]
  },
  {
   "cell_type": "code",
   "execution_count": null,
   "metadata": {},
   "outputs": [],
   "source": []
  }
 ],
 "metadata": {
  "kernelspec": {
   "display_name": "temp",
   "language": "python",
   "name": "python3"
  },
  "language_info": {
   "codemirror_mode": {
    "name": "ipython",
    "version": 3
   },
   "file_extension": ".py",
   "mimetype": "text/x-python",
   "name": "python",
   "nbconvert_exporter": "python",
   "pygments_lexer": "ipython3",
   "version": "3.10.14"
  }
 },
 "nbformat": 4,
 "nbformat_minor": 2
}
