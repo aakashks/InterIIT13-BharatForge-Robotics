{
 "cells": [
  {
   "cell_type": "code",
   "execution_count": null,
   "metadata": {},
   "outputs": [
    {
     "name": "stdout",
     "output_type": "stream",
     "text": [
      "Chat completion output:  <points x1=\"24.1\" y1=\"74.4\" x2=\"28.0\" y2=\"25.0\" x3=\"76.3\" y3=\"23.6\" x4=\"76.5\" y4=\"74.5\" alt=\"bounding box around the fire extinguisher in this image\">bounding box around the fire extinguisher in this image</points>\n"
     ]
    }
   ],
   "source": [
    "from openai import OpenAI\n",
    "\n",
    "openai_api_key = \"EMPTY\"\n",
    "openai_api_base = \"http://localhost:8000/v1\"\n",
    "\n",
    "client = OpenAI(\n",
    "    api_key=openai_api_key,\n",
    "    base_url=openai_api_base,\n",
    ")\n",
    "\n",
    "# Single-image input inference\n",
    "image_url = \"file:///home/darshan/aks_test/object-detect/image3.png\"\n",
    "\n",
    "chat_response = client.chat.completions.create(\n",
    "    model=\"allenai/Molmo-7B-D-0924\",\n",
    "    messages=[{\n",
    "        \"role\": \"user\",\n",
    "        \"content\": [\n",
    "            # NOTE: The prompt formatting with the image token `<image>` is not needed\n",
    "            # since the prompt will be processed automatically by the API server.\n",
    "            {\"type\": \"text\", \"text\": \"make a bounding box around the fire extinguisher in this image\"},\n",
    "            {\"type\": \"image_url\", \"image_url\": {\"url\": image_url}},\n",
    "        ],\n",
    "    }],\n",
    ")\n",
    "print(\"Chat completion output:\", chat_response.choices[0].message.content)\n"
   ]
  },
  {
   "cell_type": "code",
   "execution_count": 21,
   "metadata": {},
   "outputs": [
    {
     "data": {
      "text/plain": [
       "[(24.1, 74.4), (28.0, 25.0), (76.3, 23.6), (76.5, 74.5)]"
      ]
     },
     "execution_count": 21,
     "metadata": {},
     "output_type": "execute_result"
    }
   ],
   "source": [
    "# display the image with the points\n",
    "from PIL import Image\n",
    "import re\n",
    "\n",
    "image = Image.open('/home/darshan/aks_test/object-detect/image.png')\n",
    "\n",
    "# get x, y, points from the response\n",
    "#  <points x1=\"23.2\" y1=\"24.0\" x2=\"37.4\" y2=\"21.6\" x3=\"52.1\" y3=\"19.1\" x4=\"63.7\" y4=\"19.0\" alt=\"photo frames\">photo frames</points>\n",
    "\n",
    "text = chat_response.choices[0].message.content\n",
    "\n",
    "# Regular expression to find all x and y coordinate pairs\n",
    "pattern = r'x\\d+=\"([\\d.]+)\" y\\d+=\"([\\d.]+)\"'\n",
    "coordinates = re.findall(pattern, text)\n",
    "\n",
    "# Convert to list of tuples of floats\n",
    "coordinates = [(float(x), float(y)) for x, y in coordinates]\n",
    "coordinates"
   ]
  },
  {
   "cell_type": "code",
   "execution_count": null,
   "metadata": {},
   "outputs": [],
   "source": [
    "# display points on the image according to the coordinates\n",
    "# proper scale is needed to display the points on the image\n",
    "scale = 1.0\n",
    "for x, y in coordinates:\n",
    "    image.putpixel((int(x * scale), int(y * scale)), (255, 0, 0))\n",
    "\n",
    "image"
   ]
  },
  {
   "cell_type": "code",
   "execution_count": null,
   "metadata": {},
   "outputs": [],
   "source": []
  }
 ],
 "metadata": {
  "kernelspec": {
   "display_name": "ps2_mid",
   "language": "python",
   "name": "python3"
  },
  "language_info": {
   "codemirror_mode": {
    "name": "ipython",
    "version": 3
   },
   "file_extension": ".py",
   "mimetype": "text/x-python",
   "name": "python",
   "nbconvert_exporter": "python",
   "pygments_lexer": "ipython3",
   "version": "3.10.15"
  }
 },
 "nbformat": 4,
 "nbformat_minor": 2
}
