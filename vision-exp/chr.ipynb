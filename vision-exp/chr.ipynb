{
 "cells": [
  {
   "cell_type": "code",
   "execution_count": 1,
   "metadata": {},
   "outputs": [
    {
     "data": {
      "text/plain": [
       "['1.png',\n",
       " '10.png',\n",
       " '11.png',\n",
       " '2.png',\n",
       " '3.png',\n",
       " '4.png',\n",
       " '5.png',\n",
       " '6.png',\n",
       " '7.png',\n",
       " '8.png',\n",
       " '9.png',\n",
       " 'image0.png',\n",
       " 'image1.jpg',\n",
       " 'image2.png',\n",
       " 'image3.png',\n",
       " 'image4.jpg',\n",
       " 'image5.jpg',\n",
       " 'image6.jpeg',\n",
       " 'image7.jpg']"
      ]
     },
     "execution_count": 1,
     "metadata": {},
     "output_type": "execute_result"
    }
   ],
   "source": [
    "import os\n",
    "\n",
    "lst_images = sorted(os.listdir('../images'))\n",
    "lst_images"
   ]
  },
  {
   "cell_type": "code",
   "execution_count": 2,
   "metadata": {},
   "outputs": [
    {
     "data": {
      "text/plain": [
       "[Collection(name=clip_embeddings)]"
      ]
     },
     "execution_count": 2,
     "metadata": {},
     "output_type": "execute_result"
    }
   ],
   "source": [
    "# use chromadb for the same\n",
    "import chromadb\n",
    "\n",
    "client = chromadb.PersistentClient('./.chromadb')\n",
    "client.list_collections()"
   ]
  },
  {
   "cell_type": "code",
   "execution_count": 3,
   "metadata": {},
   "outputs": [],
   "source": [
    "from chromadb.utils.embedding_functions import OpenCLIPEmbeddingFunction\n",
    "from chromadb.utils.data_loaders import ImageLoader\n",
    "data_loader = ImageLoader()\n"
   ]
  },
  {
   "cell_type": "code",
   "execution_count": 4,
   "metadata": {},
   "outputs": [],
   "source": [
    "embedding_function = OpenCLIPEmbeddingFunction('ViT-B-16-SigLIP', 'webli', device='cuda')\n",
    "\n",
    "# device='cuda' for GPU\n"
   ]
  },
  {
   "cell_type": "code",
   "execution_count": 5,
   "metadata": {},
   "outputs": [],
   "source": [
    "client.delete_collection('clip_embeddings')"
   ]
  },
  {
   "cell_type": "code",
   "execution_count": 5,
   "metadata": {},
   "outputs": [],
   "source": [
    "collection = client.get_or_create_collection(name='clip_embeddings', embedding_function=embedding_function, data_loader=data_loader)"
   ]
  },
  {
   "cell_type": "code",
   "execution_count": 70,
   "metadata": {},
   "outputs": [
    {
     "data": {
      "text/plain": [
       "{'ids': ['image2.png'],\n",
       " 'embeddings': array([[ 1.14765763e-02, -1.32578900e-02, -2.55592652e-02,\n",
       "          8.29933677e-03,  2.65802443e-02, -6.37700595e-03,\n",
       "         -5.63510461e-03,  1.61394570e-02, -4.72269719e-03,\n",
       "          3.08075957e-02, -5.98612800e-03,  2.15058420e-02,\n",
       "         -9.52229369e-03,  3.86946881e-03,  2.68823449e-02,\n",
       "          2.78099403e-02, -5.38402516e-03, -1.91623140e-02,\n",
       "         -2.47053546e-03, -1.00920666e-02,  3.35300304e-02,\n",
       "         -1.23435035e-02, -3.19652259e-02, -4.58299136e-03,\n",
       "         -8.56370945e-03, -1.75679494e-02, -2.01480873e-02,\n",
       "          2.04973426e-02, -1.06736994e-03, -4.27749893e-03,\n",
       "         -1.23757254e-02,  2.53579076e-02, -1.58812702e-02,\n",
       "         -1.51439672e-04, -2.42626833e-04, -6.82195881e-03,\n",
       "         -3.63469264e-03,  1.67175084e-02,  4.43838118e-03,\n",
       "          2.90828105e-02,  2.04926692e-02, -7.15734363e-02,\n",
       "          1.44380983e-02, -2.76364014e-03, -2.05062912e-03,\n",
       "         -1.87825412e-02,  1.58541799e-02, -2.08532736e-02,\n",
       "          2.16006469e-02, -4.59401160e-02, -3.84832844e-02,\n",
       "          2.58793123e-02,  7.15057785e-03,  1.45603558e-02,\n",
       "          5.48173450e-02, -9.25410632e-03, -3.00773582e-03,\n",
       "          2.35548280e-02,  8.02123453e-03, -2.62296200e-02,\n",
       "          5.53938095e-03, -6.88724145e-02,  2.05454901e-02,\n",
       "         -1.34785315e-02,  9.94340777e-02, -1.71995442e-02,\n",
       "          1.89607367e-02,  2.18581259e-02,  9.35010758e-06,\n",
       "         -2.01826207e-02, -2.02533305e-02, -4.42876201e-03,\n",
       "         -6.60564797e-03,  3.48285623e-02, -5.87874930e-03,\n",
       "          1.06979059e-02, -1.28306206e-02,  1.79662239e-02,\n",
       "          3.79118085e-01, -3.52129969e-03,  1.14667630e-02,\n",
       "         -1.20815383e-02,  3.29655618e-03,  7.44509604e-03,\n",
       "         -3.27595435e-02,  8.19683727e-03, -6.31930400e-03,\n",
       "          1.60055049e-02, -5.06364566e-04,  2.24651098e-02,\n",
       "         -9.05661583e-02,  6.84383232e-03, -2.60045584e-02,\n",
       "          9.88133834e-04,  6.75310344e-02, -1.09224580e-02,\n",
       "          2.58081872e-02,  6.28923392e-03,  3.08491923e-02,\n",
       "         -1.08527131e-02,  7.27851037e-03, -3.79185900e-02,\n",
       "         -1.41694583e-02, -8.34483746e-03, -1.94533765e-02,\n",
       "          1.60396397e-02,  8.01065378e-03, -3.53905410e-02,\n",
       "          1.90185234e-02, -3.93117312e-03, -1.53716551e-02,\n",
       "          5.38365841e-02,  7.75963813e-03,  3.57442326e-03,\n",
       "          6.65343925e-03,  8.58518258e-02, -2.02390030e-02,\n",
       "          3.64782731e-03, -5.91729442e-03, -6.97967596e-03,\n",
       "         -6.67874329e-03,  3.15445438e-02,  3.28242895e-03,\n",
       "         -8.10146984e-03, -8.64335150e-02,  5.51562011e-03,\n",
       "          1.47041185e-02,  5.10869687e-03, -5.05373031e-02,\n",
       "         -3.62433642e-02, -7.70922890e-03,  5.13729698e-04,\n",
       "         -4.98342793e-03, -7.76964892e-03, -7.06144236e-03,\n",
       "         -7.99090322e-03,  6.72028214e-03,  1.20961864e-03,\n",
       "          8.90672579e-02, -1.52837643e-02, -2.69088685e-03,\n",
       "         -1.90278143e-03, -1.27720479e-02,  8.63527786e-03,\n",
       "          3.01498342e-02,  4.55665606e-04, -8.23093299e-03,\n",
       "          8.98484699e-03,  2.88515929e-02, -2.46384256e-02,\n",
       "          3.96058671e-02,  1.17016090e-02,  6.17378671e-03,\n",
       "          1.98586106e-01,  3.87359248e-03,  9.12339892e-03,\n",
       "          9.32994112e-03,  8.23603272e-02,  5.17549086e-03,\n",
       "         -6.94828574e-03, -1.60950446e-03,  5.64946271e-02,\n",
       "         -1.04843527e-02, -9.92154353e-04,  1.67982560e-02,\n",
       "         -2.87353732e-02, -3.35440487e-02, -1.58049986e-02,\n",
       "         -1.22866649e-02,  8.37976206e-03,  2.34326832e-02,\n",
       "         -2.86994688e-03,  3.64269577e-02,  6.48136623e-03,\n",
       "          8.45119506e-02, -2.25474127e-02,  2.91754883e-02,\n",
       "          9.67445131e-03,  1.29179750e-02,  2.08136830e-02,\n",
       "         -4.01716586e-03,  8.07400886e-03,  2.18160693e-02,\n",
       "          1.34755147e-03,  4.62163938e-03, -2.88077816e-02,\n",
       "          1.70275904e-02,  1.06190313e-02,  1.15095859e-03,\n",
       "          2.98649911e-02,  2.62460466e-02,  8.17120355e-03,\n",
       "         -2.85821799e-02,  9.20451805e-03,  7.71897659e-03,\n",
       "          2.18942761e-02, -1.81614177e-03, -3.45206149e-02,\n",
       "         -1.74893253e-02, -3.21226567e-02,  7.60408342e-02,\n",
       "          2.42943279e-02,  6.32354990e-03,  4.68974467e-03,\n",
       "         -2.85175461e-02, -1.62313809e-03,  2.71081161e-02,\n",
       "         -1.66487098e-02, -2.84671132e-02, -4.53808159e-03,\n",
       "         -2.35670879e-02, -1.02305636e-01, -1.07463673e-02,\n",
       "         -4.74421214e-03,  2.86076404e-02,  1.15621164e-02,\n",
       "         -2.44629588e-02, -1.46655263e-02,  3.24700326e-02,\n",
       "         -1.13732200e-02, -2.38917023e-02,  1.80673990e-02,\n",
       "         -1.14600314e-02,  2.18781158e-02, -1.98596995e-03,\n",
       "         -8.67533125e-03,  8.61772394e-04, -1.76143181e-02,\n",
       "         -4.42410335e-02, -2.82989477e-05,  1.12053854e-02,\n",
       "         -1.66213932e-03,  4.12722155e-02, -1.08639421e-02,\n",
       "         -1.05418926e-02, -1.25514399e-02,  2.78791767e-02,\n",
       "         -2.75217742e-03,  1.95732643e-03,  2.61623487e-02,\n",
       "          4.36216407e-02,  8.79369490e-03,  2.47768462e-02,\n",
       "         -1.09708821e-02,  2.25261766e-02, -1.06171367e-03,\n",
       "          2.07531620e-02, -1.60416402e-02, -2.83489544e-02,\n",
       "         -2.58049686e-02, -9.10740253e-03, -3.74760339e-03,\n",
       "         -1.63881555e-02, -2.37791985e-03, -1.65066477e-02,\n",
       "         -1.10787302e-02,  2.04826891e-03, -4.88391928e-02,\n",
       "         -1.00940596e-02, -1.32116163e-02, -1.80018917e-02,\n",
       "          1.37746204e-02, -2.12383755e-02,  1.05077224e-02,\n",
       "         -4.22479073e-03, -8.04888736e-03,  4.98080030e-02,\n",
       "          2.45682639e-03, -1.41689060e-02,  2.21866574e-02,\n",
       "          5.18299602e-02,  1.15005840e-02, -1.77852046e-02,\n",
       "         -1.40072918e-02, -1.57271530e-02,  3.98530960e-02,\n",
       "         -4.78719845e-02,  6.85167219e-03, -2.56893947e-03,\n",
       "         -1.04127014e-02, -1.36810727e-02,  2.13492792e-02,\n",
       "         -2.53602471e-02, -3.13733108e-02, -1.06677227e-03,\n",
       "          1.48775068e-03, -3.25626787e-03, -1.06830727e-02,\n",
       "         -2.43608914e-02, -2.12713741e-02, -1.04051782e-02,\n",
       "          2.15393901e-02,  3.46402712e-02, -3.80949788e-02,\n",
       "          3.40664200e-02,  2.00342480e-02,  3.76648270e-02,\n",
       "         -1.96806863e-02,  1.23832347e-02, -7.52537372e-03,\n",
       "          4.05934080e-03,  2.80104578e-01,  2.69413926e-02,\n",
       "         -4.94732428e-03, -4.16392973e-03,  1.14867855e-02,\n",
       "          1.83802331e-03,  2.49460209e-02,  1.80770885e-02,\n",
       "         -1.04440153e-02, -1.01823043e-02, -7.64390873e-03,\n",
       "         -7.21348636e-03,  1.29400734e-02,  5.77669218e-03,\n",
       "          1.13734864e-01,  3.34009603e-02, -1.95463635e-02,\n",
       "         -6.38685538e-04,  3.34822829e-03, -1.19944168e-02,\n",
       "          1.16438493e-02,  3.42770033e-02, -2.19941959e-02,\n",
       "         -4.71824594e-02,  9.42503661e-03,  3.56533006e-02,\n",
       "          2.62732171e-02,  3.63106318e-02, -5.66496961e-02,\n",
       "          9.04729031e-03,  3.71575989e-02, -2.21576840e-02,\n",
       "          5.10099530e-03,  1.51101276e-02, -4.96793538e-03,\n",
       "          8.48290045e-03,  2.25153770e-02, -4.19108570e-03,\n",
       "          2.53529679e-02, -4.18910086e-02,  2.83985268e-02,\n",
       "         -1.02884769e-02, -1.62513163e-02,  3.42070088e-02,\n",
       "          7.23768910e-03,  2.76574213e-02, -1.80595145e-02,\n",
       "          1.29598482e-02,  2.76832953e-02, -2.21113837e-03,\n",
       "          1.94453299e-02, -2.18490865e-02,  4.23687510e-02,\n",
       "          1.11362094e-03, -3.76772657e-02,  9.08403285e-03,\n",
       "          1.80376843e-02, -8.14553443e-03,  1.28657380e-02,\n",
       "         -1.32556437e-02,  9.26802959e-03, -1.64072569e-02,\n",
       "          2.48184311e-04,  2.78472714e-02, -1.51548544e-02,\n",
       "          3.18211839e-02, -2.03649271e-02,  4.80436869e-02,\n",
       "          8.36842414e-03,  2.32999232e-02,  1.04249874e-02,\n",
       "         -1.35201658e-03, -1.47044053e-02,  2.27985661e-02,\n",
       "         -2.87573668e-03,  1.32916551e-02, -1.33494074e-02,\n",
       "          3.01995855e-02, -1.97632425e-02,  8.33494067e-02,\n",
       "         -2.33065095e-02,  2.04455536e-02,  1.91168673e-02,\n",
       "          2.38003023e-03, -3.35862897e-02,  2.14084890e-03,\n",
       "         -8.85967538e-03, -2.81580277e-02, -2.40769610e-03,\n",
       "         -5.65370498e-03, -8.64160806e-03, -2.38457285e-02,\n",
       "         -2.62225494e-02,  2.86795404e-02, -2.94724405e-02,\n",
       "          5.18739829e-03,  2.75966711e-02, -7.03668129e-03,\n",
       "          1.65659934e-02, -1.81745179e-02, -6.48874715e-02,\n",
       "         -5.44333016e-04,  6.93418039e-03, -4.81033586e-02,\n",
       "         -1.76169332e-02,  2.18942668e-02, -5.80170378e-03,\n",
       "          5.30453622e-02, -2.41030883e-02, -3.99439316e-03,\n",
       "          1.30978897e-02,  9.69326310e-03, -1.47204520e-02,\n",
       "          1.50038872e-03, -1.04876272e-02,  3.92737705e-03,\n",
       "         -1.23636611e-02, -1.64182335e-02, -8.44058301e-03,\n",
       "          7.07543688e-03, -7.80827086e-03, -7.15495367e-03,\n",
       "          1.82794780e-02,  6.23361394e-03, -1.10970736e-02,\n",
       "         -4.67134733e-03, -2.41879467e-03,  1.41220251e-02,\n",
       "          4.34818193e-02,  9.85545106e-03,  1.80016793e-02,\n",
       "         -1.95048694e-02, -1.01204636e-02, -3.62058096e-02,\n",
       "         -3.02864481e-02, -2.86786184e-02,  2.04423275e-02,\n",
       "          5.63345384e-04,  1.10832741e-02,  3.75641212e-02,\n",
       "         -2.12744512e-02, -3.07365973e-03, -1.28666922e-01,\n",
       "         -3.65260732e-03, -2.16749795e-02,  2.21725702e-02,\n",
       "         -6.04015356e-03,  8.38218406e-02, -1.10587012e-02,\n",
       "          4.51487210e-03,  7.87436310e-03,  9.47097596e-03,\n",
       "          2.13522967e-02,  5.30368574e-02,  1.99231189e-02,\n",
       "          1.36256292e-02,  3.18235271e-02, -2.42724530e-02,\n",
       "         -1.76100049e-03,  6.76692650e-03, -7.69970892e-03,\n",
       "         -1.12923766e-02, -7.71760149e-03,  1.21167162e-02,\n",
       "         -8.90376698e-03,  1.64979743e-03,  9.88667924e-03,\n",
       "         -5.57944961e-02, -7.68522313e-03, -2.33749133e-02,\n",
       "         -4.06865962e-02, -1.28959175e-02, -3.10194287e-02,\n",
       "          1.34834610e-02, -2.10514218e-02, -8.01725965e-03,\n",
       "          5.20098116e-03, -2.96626501e-02, -2.11128816e-02,\n",
       "          2.11584680e-02, -1.32887242e-02, -8.41693860e-03,\n",
       "          2.36780308e-02,  1.91457093e-01,  1.78043228e-02,\n",
       "          2.94081005e-03, -2.67028948e-03,  1.35275153e-02,\n",
       "         -5.92501508e-03,  5.26873581e-02,  4.96963272e-03,\n",
       "          6.31605368e-03,  2.06544455e-02, -5.53015107e-03,\n",
       "         -4.74287634e-04,  2.54623964e-02,  9.31633543e-03,\n",
       "          2.39088722e-02,  4.41783443e-02,  7.14024808e-03,\n",
       "          3.22724576e-03,  2.16395580e-04, -7.12533249e-03,\n",
       "         -4.27858122e-02,  1.14753647e-02, -1.54197095e-02,\n",
       "          1.31788766e-02,  3.08098402e-02, -2.36733295e-02,\n",
       "          4.50480357e-02, -2.92274617e-02,  1.30054541e-02,\n",
       "         -2.85524279e-02,  1.12513211e-02, -1.20390989e-02,\n",
       "          2.50488073e-02,  2.53461534e-03,  4.34385147e-03,\n",
       "         -2.18320591e-03, -1.69223586e-05,  3.95603292e-02,\n",
       "         -2.84316838e-02, -6.41577551e-03,  1.14704994e-02,\n",
       "         -1.79209793e-03, -3.46611924e-02,  1.82200186e-02,\n",
       "          1.24931056e-02,  5.07861888e-03,  3.45416442e-02,\n",
       "         -3.83851975e-02,  4.82417755e-02,  7.16307312e-02,\n",
       "          2.80061364e-02, -6.51362687e-02,  8.20343569e-03,\n",
       "          1.43380808e-02, -1.85870156e-02,  1.42068285e-02,\n",
       "          3.59352641e-02, -2.66969111e-02, -4.84276637e-02,\n",
       "         -1.32901855e-02, -1.24383541e-02, -1.20850075e-02,\n",
       "          1.40615655e-02, -4.46762852e-02,  2.22461820e-02,\n",
       "          3.64221353e-03, -2.13806294e-02, -7.66179385e-03,\n",
       "          7.39445537e-03, -4.14060019e-02, -1.13762878e-02,\n",
       "         -1.50067965e-02,  2.12865993e-02,  8.20774864e-03,\n",
       "         -4.61545354e-03,  1.92793626e-02,  7.36763924e-02,\n",
       "         -6.25299290e-03,  5.62622165e-03, -5.31249270e-02,\n",
       "         -4.02183272e-03, -1.00036217e-02,  4.83482927e-02,\n",
       "          9.93812736e-03,  1.76355038e-02, -2.50617079e-02,\n",
       "         -2.00670231e-02,  2.69790832e-02,  1.73046570e-02,\n",
       "         -8.10306985e-03,  3.03419530e-02,  3.91205698e-02,\n",
       "          9.28932242e-03,  3.41980867e-02,  2.39331238e-02,\n",
       "         -7.58242654e-03,  1.45768831e-02,  2.37629600e-02,\n",
       "         -3.50528769e-02,  2.35322975e-02, -1.97058488e-02,\n",
       "         -1.30404355e-02,  4.06808704e-02,  9.12014116e-03,\n",
       "          3.00268494e-02,  4.41235118e-03,  2.29285494e-03,\n",
       "          2.61956174e-03,  2.75934581e-02, -1.12381177e-02,\n",
       "          1.82426274e-02, -5.47364354e-04,  9.02892202e-02,\n",
       "         -3.12764980e-02, -1.44793671e-02, -1.08587854e-02,\n",
       "         -1.88575741e-02, -2.46842429e-02, -3.43432911e-02,\n",
       "          6.20863885e-02,  6.22423657e-04, -3.77436504e-02,\n",
       "         -4.46089357e-02,  1.54048000e-02,  8.26185977e-04,\n",
       "          2.33296324e-02, -4.45125345e-03,  1.88554041e-02,\n",
       "          1.15504581e-02, -1.31876431e-02,  2.36536339e-02,\n",
       "         -1.87124331e-02, -4.88238297e-02, -4.47889417e-02,\n",
       "          2.34669466e-02,  3.29665393e-02, -4.79727201e-02,\n",
       "          4.96219750e-03, -1.60109606e-02, -8.42508208e-03,\n",
       "         -4.26680176e-03,  1.95216741e-02, -3.41077521e-02,\n",
       "         -5.48312254e-03,  8.23645573e-03,  1.88957490e-02,\n",
       "         -6.76927483e-03,  8.30224599e-04, -6.52992949e-02,\n",
       "          1.90534687e-03,  6.85742637e-03, -3.67929563e-02,\n",
       "          1.87239852e-02, -2.95827491e-03, -2.62246132e-02,\n",
       "         -8.80435389e-03, -2.17801910e-02,  2.77788173e-02,\n",
       "         -1.02834217e-03,  1.09461928e-02,  2.71786842e-02,\n",
       "         -4.29311395e-03, -1.05071619e-01,  3.66702536e-03,\n",
       "          6.98347529e-03, -2.15300657e-02,  1.08880974e-01,\n",
       "         -1.45025328e-02, -7.12097157e-03, -5.19074164e-02,\n",
       "          2.57000495e-02,  2.67941281e-02,  5.96993864e-02,\n",
       "         -5.13783358e-02, -1.22708064e-02,  3.30357254e-02,\n",
       "          1.22611469e-03, -1.84562001e-02,  2.22880160e-03,\n",
       "          5.16571663e-02,  6.91808620e-03, -4.52669300e-02,\n",
       "         -3.82682271e-02,  1.27197094e-02,  1.79364569e-02,\n",
       "          1.97240412e-02,  1.58653669e-02, -7.63390958e-03,\n",
       "         -2.12608278e-02,  7.52570480e-02,  1.73689816e-02,\n",
       "         -1.87800974e-02, -1.68614462e-02,  3.44006680e-02,\n",
       "          4.33601253e-03, -2.28782613e-02,  8.02821107e-03,\n",
       "          1.27771907e-02,  1.47214113e-02,  9.97544359e-03,\n",
       "          3.68887605e-03,  2.14271490e-02,  3.38155450e-03,\n",
       "          3.61904167e-02,  1.02647230e-01,  1.20012173e-02,\n",
       "         -6.97190827e-03,  2.17688642e-02,  2.85407361e-02,\n",
       "          1.38400844e-03, -2.07931269e-02,  1.21266022e-02,\n",
       "          1.45337842e-02, -2.12780945e-02, -5.65292686e-02,\n",
       "         -1.33061707e-02, -1.31558431e-02,  2.10592411e-02,\n",
       "         -2.63413787e-03,  5.54737970e-02,  9.64301005e-02,\n",
       "         -2.23461837e-02,  6.66757394e-03, -5.23111932e-02,\n",
       "         -1.72863062e-02, -2.95095699e-04, -3.80868278e-02,\n",
       "          2.30594608e-03, -4.65182401e-02, -2.18598247e-02,\n",
       "          1.14528891e-02, -5.39896488e-02, -1.89482549e-03,\n",
       "         -2.05394882e-03, -4.18552337e-03,  1.14567447e-02,\n",
       "          2.19101459e-03,  5.63792558e-03, -1.12358415e-02,\n",
       "         -3.83183286e-02, -5.42551000e-03,  3.90622802e-02,\n",
       "         -9.84982494e-03,  2.48105042e-02, -1.30470917e-01,\n",
       "          2.70898119e-02, -4.40284051e-02,  1.21704827e-03,\n",
       "          7.85485841e-03, -2.56088600e-02,  1.10977953e-02,\n",
       "         -5.92584675e-03,  1.16480105e-02, -1.77388042e-02,\n",
       "          9.52787977e-03, -2.51201401e-03, -3.81555967e-02,\n",
       "          4.43638489e-03,  6.28034119e-03, -4.61654458e-03,\n",
       "          5.22132684e-03,  4.61560376e-02, -1.18520390e-02,\n",
       "         -9.29339752e-02,  3.67914252e-02,  2.11458765e-02,\n",
       "         -6.84839785e-02, -9.33020376e-03,  5.56065701e-03,\n",
       "          7.39287725e-03,  1.05383676e-02,  2.38608159e-02,\n",
       "         -2.19971854e-02,  9.41811875e-03, -3.01963300e-03,\n",
       "          3.46434802e-01,  1.84643902e-02,  8.85625184e-03,\n",
       "          3.58367674e-02, -7.19717238e-03,  4.89392877e-03,\n",
       "          5.98335639e-03,  3.14996354e-02,  2.05566119e-02]]),\n",
       " 'documents': [None],\n",
       " 'uris': None,\n",
       " 'data': None,\n",
       " 'metadatas': [{'name': 'image2.png'}],\n",
       " 'included': [<IncludeEnum.embeddings: 'embeddings'>,\n",
       "  <IncludeEnum.documents: 'documents'>,\n",
       "  <IncludeEnum.metadatas: 'metadatas'>]}"
      ]
     },
     "execution_count": 70,
     "metadata": {},
     "output_type": "execute_result"
    }
   ],
   "source": [
    "collection.peek(10)"
   ]
  },
  {
   "cell_type": "code",
   "execution_count": 67,
   "metadata": {},
   "outputs": [],
   "source": [
    "collection.add(\n",
    "    ids='image2.png',\n",
    "    uris='../images/image2.png',\n",
    "    metadatas={'name': 'image2.png'}\n",
    ")"
   ]
  },
  {
   "cell_type": "code",
   "execution_count": null,
   "metadata": {},
   "outputs": [
    {
     "data": {
      "text/plain": [
       "{'ids': [],\n",
       " 'embeddings': None,\n",
       " 'documents': [],\n",
       " 'uris': None,\n",
       " 'data': None,\n",
       " 'metadatas': [],\n",
       " 'included': [<IncludeEnum.documents: 'documents'>,\n",
       "  <IncludeEnum.metadatas: 'metadatas'>]}"
      ]
     },
     "execution_count": 78,
     "metadata": {},
     "output_type": "execute_result"
    }
   ],
   "source": [
    "collection.get('image1.png')['ids']"
   ]
  },
  {
   "cell_type": "code",
   "execution_count": 53,
   "metadata": {},
   "outputs": [
    {
     "data": {
      "text/plain": [
       "2"
      ]
     },
     "execution_count": 53,
     "metadata": {},
     "output_type": "execute_result"
    }
   ],
   "source": [
    "collection.count()"
   ]
  },
  {
   "cell_type": "code",
   "execution_count": 36,
   "metadata": {},
   "outputs": [],
   "source": [
    "import open_clip"
   ]
  },
  {
   "cell_type": "code",
   "execution_count": 7,
   "metadata": {},
   "outputs": [],
   "source": [
    "from PIL import Image\n",
    "import numpy as np\n",
    "\n",
    "collection.add(\n",
    "    ids=lst_images,\n",
    "    uris=[os.path.join('../images', img) for img in lst_images],\n",
    "    metadatas=[{'image': img} for img in lst_images],\n",
    ")"
   ]
  },
  {
   "cell_type": "code",
   "execution_count": 6,
   "metadata": {},
   "outputs": [
    {
     "data": {
      "text/plain": [
       "{'ids': [['4.png', 'image6.jpeg', '6.png', 'image7.jpg', '11.png']],\n",
       " 'embeddings': None,\n",
       " 'documents': [[None, None, None, None, None]],\n",
       " 'uris': None,\n",
       " 'data': None,\n",
       " 'metadatas': [[{'image': '4.png'},\n",
       "   {'image': 'image6.jpeg'},\n",
       "   {'image': '6.png'},\n",
       "   {'image': 'image7.jpg'},\n",
       "   {'image': '11.png'}]],\n",
       " 'distances': [[1.7994526247292633,\n",
       "   1.8823396150715455,\n",
       "   1.8840964817854373,\n",
       "   1.888152462148303,\n",
       "   1.9062412649678568]],\n",
       " 'included': [<IncludeEnum.distances: 'distances'>,\n",
       "  <IncludeEnum.documents: 'documents'>,\n",
       "  <IncludeEnum.metadatas: 'metadatas'>]}"
      ]
     },
     "execution_count": 6,
     "metadata": {},
     "output_type": "execute_result"
    }
   ],
   "source": [
    "results = collection.query(\n",
    "    query_texts=[\"a photo of trolley\"],\n",
    "    n_results=5,\n",
    ")\n",
    "results"
   ]
  },
  {
   "cell_type": "code",
   "execution_count": 8,
   "metadata": {},
   "outputs": [
    {
     "data": {
      "text/plain": [
       "[{'image': 'image0.png'},\n",
       " {'image': 'image1.jpg'},\n",
       " {'image': 'image7.jpg'},\n",
       " {'image': 'image5.jpg'},\n",
       " {'image': 'image4.jpg'}]"
      ]
     },
     "execution_count": 8,
     "metadata": {},
     "output_type": "execute_result"
    }
   ],
   "source": [
    "results['ids'][0]\n",
    "results['metadatas'][0]"
   ]
  },
  {
   "cell_type": "code",
   "execution_count": 11,
   "metadata": {},
   "outputs": [],
   "source": [
    "# update old image with a new image\n",
    "\n",
    "collection.update(\n",
    "    ids=lst_images[0],\n",
    "    uris=os.path.join('../images', 'staircase.jpg'),\n",
    "    metadatas={'image': 'staircase.jpg'}\n",
    ")"
   ]
  },
  {
   "cell_type": "code",
   "execution_count": 44,
   "metadata": {},
   "outputs": [],
   "source": [
    "import chromadb\n",
    "from chromadb.utils.embedding_functions import OpenCLIPEmbeddingFunction\n",
    "from chromadb.utils.data_loaders import ImageLoader\n",
    "\n",
    "# format\n",
    "# {\n",
    "#     '12_34_180': {\n",
    "#         'image_path': '12_34_180.jpg',\n",
    "#         'label': '12_34_180'\n",
    "#     },\n",
    "#     '12_34_270': {\n",
    "#         'image_path': '12_34_270.jpg',\n",
    "#         'label': '12_34_270'\n",
    "#     }\n",
    "# }\n",
    "\n",
    "db_client = chromadb.PersistentClient('./db')\n",
    "\n",
    "def store_images(data, collection_name='embeddings'):    \n",
    "    collection = db_client.get_or_create_collection(name=collection_name, embedding_function=embedding_function, data_loader=ImageLoader())\n",
    "    collection.add(\n",
    "        ids=data.keys(),        # list of x_y_yaw strings\n",
    "        uris=[node['image_path'] for node in data],\n",
    "        metadatas=[data[node] for node in data]\n",
    "    )\n",
    "    \n",
    "def update_images(new_data, collection_name='embeddings'):\n",
    "    collection = db_client.get_or_create_collection(name=collection_name, embedding_function=embedding_function, data_loader=ImageLoader())\n",
    "    for node in new_data:\n",
    "        collection.update(\n",
    "            ids=node,\n",
    "            uri=new_data[node]['image_path'],\n",
    "            metadata=new_data[node]\n",
    "        )\n",
    "        \n",
    "def query_images(query_text, n_results=20, collection_name='embeddings'):\n",
    "    collection = db_client.get_or_create_collection(name=collection_name, embedding_function=embedding_function, data_loader=ImageLoader())\n",
    "    results = collection.query(\n",
    "        query_texts=[query_text],\n",
    "        n_results=n_results,\n",
    "    )\n",
    "    \n",
    "    return results"
   ]
  },
  {
   "cell_type": "code",
   "execution_count": 48,
   "metadata": {},
   "outputs": [],
   "source": [
    "import asyncio\n",
    "import aiohttp\n",
    "import pandas as pd\n",
    "import json\n",
    "from tqdm.asyncio import tqdm_asyncio\n",
    "import os\n",
    "import gc\n",
    "import requests\n",
    "\n",
    "\n",
    "OPENAI_API_KEY = \"EMPTY\"\n",
    "OPENAI_API_BASE = \"http://0.0.0.0:8000/v1\"\n",
    "MODEL_NAME = \"allenai/Molmo-7B-D-0924\"\n",
    "CONCURRENT_REQUESTS = 10  # Number of concurrent API requests\n",
    "BATCH_SIZE = 10  # Number of images to process in a batch"
   ]
  },
  {
   "cell_type": "code",
   "execution_count": 56,
   "metadata": {},
   "outputs": [],
   "source": [
    "from icecream import ic"
   ]
  },
  {
   "cell_type": "code",
   "execution_count": 71,
   "metadata": {},
   "outputs": [],
   "source": [
    "def ask_text_query(text_prompt, timeout=5):\n",
    "    # For 1 text query, return the output of the VLM\n",
    "    # Send the prompt to the API and get the results\n",
    "    try:\n",
    "        payload = {\n",
    "            \"model\": MODEL_NAME,\n",
    "            \"messages\": [{\n",
    "                \"role\": \"user\",\n",
    "                \"content\": [\n",
    "                    {\"type\": \"text\", \"text\": text_prompt},\n",
    "                ],\n",
    "            }],\n",
    "        }\n",
    "\n",
    "        headers = {\n",
    "            \"Authorization\": f\"Bearer {OPENAI_API_KEY}\",\n",
    "            \"Content-Type\": \"application/json\",\n",
    "        }\n",
    "\n",
    "        # Set a specific timeout for the request\n",
    "        response = requests.post(f\"{OPENAI_API_BASE}/chat/completions\", json=payload, headers=headers, timeout=timeout)\n",
    "        data = response.json()\n",
    "        \n",
    "        ic(response.status_code)\n",
    "        ic(data)\n",
    "        \n",
    "        vlm_output = data['choices'][0]['message']['content']\n",
    "    \n",
    "    except Exception as e:\n",
    "        vlm_output = f\"Exception: {str(e)}\"\n",
    "\n",
    "    return vlm_output"
   ]
  },
  {
   "cell_type": "code",
   "execution_count": 73,
   "metadata": {},
   "outputs": [
    {
     "name": "stderr",
     "output_type": "stream",
     "text": [
      "ic| response.status_code: 200\n",
      "ic| data: {'choices': [{'finish_reason': 'stop',\n",
      "                        'index': 0,\n",
      "                        'logprobs': None,\n",
      "                        'message': {'content': \" Hello! I'm here to assist you with any \"\n",
      "                                               'questions or tasks you might have. What '\n",
      "                                               'can I help you with today?',\n",
      "                                    'role': 'assistant',\n",
      "                                    'tool_calls': []},\n",
      "                        'stop_reason': None}],\n",
      "           'created': 1733258623,\n",
      "           'id': 'chatcmpl-234ab4e781d14ff3ba2cd96744915530',\n",
      "           'model': 'allenai/Molmo-7B-D-0924',\n",
      "           'object': 'chat.completion',\n",
      "           'prompt_logprobs': None,\n",
      "           'usage': {'completion_tokens': 26,\n",
      "                     'prompt_tokens': 6,\n",
      "                     'prompt_tokens_details': None,\n",
      "                     'total_tokens': 32}}\n"
     ]
    },
    {
     "data": {
      "text/plain": [
       "\" Hello! I'm here to assist you with any questions or tasks you might have. What can I help you with today?\""
      ]
     },
     "execution_count": 73,
     "metadata": {},
     "output_type": "execute_result"
    }
   ],
   "source": [
    "ask_text_query(\"hi\")"
   ]
  },
  {
   "cell_type": "code",
   "execution_count": null,
   "metadata": {},
   "outputs": [
    {
     "data": {
      "text/plain": [
       "[' There are none.',\n",
       " ' Counting the <points x1=\"71.5\" y1=\"91.3\" x2=\"74.6\" y2=\"77.6\" x3=\"80.0\" y3=\"78.1\" x4=\"81.0\" y4=\"89.5\" x5=\"90.5\" y5=\"87.3\" alt=\"no of cardboard cartons or boxes if any\">no of cardboard cartons or boxes if any</points> shows a total of 5.',\n",
       " ' There are none.',\n",
       " ' Counting the <points x1=\"46.8\" y1=\"32.9\" x2=\"47.2\" y2=\"36.4\" x3=\"47.3\" y3=\"30.6\" x4=\"47.6\" y4=\"28.4\" x5=\"49.2\" y5=\"29.6\" x6=\"49.2\" y6=\"40.5\" x7=\"49.8\" y7=\"35.9\" x8=\"51.2\" y8=\"41.4\" x9=\"52.0\" y9=\"36.2\" x10=\"52.4\" y10=\"41.1\" x11=\"53.3\" y11=\"36.2\" x12=\"53.8\" y12=\"33.6\" x13=\"56.6\" y13=\"39.6\" x14=\"58.4\" y14=\"43.8\" x15=\"58.8\" y15=\"39.6\" x16=\"59.6\" y16=\"44.8\" x17=\"59.9\" y17=\"40.5\" x18=\"60.7\" y18=\"45.3\" x19=\"61.3\" y19=\"40.2\" x20=\"62.2\" y20=\"45.0\" alt=\"no of cardboard cartons or boxes if any\">no of cardboard cartons or boxes if any</points> shows a total of 20.',\n",
       " 'Timeout Error: Request took longer',\n",
       " 'Timeout Error: Request took longer',\n",
       " 'Timeout Error: Request took longer']"
      ]
     },
     "execution_count": 15,
     "metadata": {},
     "output_type": "execute_result"
    }
   ],
   "source": [
    "from .vlm import run_multiple_image_query\n",
    "import subprocess\n",
    "import json\n",
    "\n",
    "def multiple_image_query(prompt, image_dir):\n",
    "    results = asyncio.run(run_multiple_image_query(image_dir, prompt))\n",
    "    return results\n",
    "\n",
    "multiple_image_query(\"count no of cardboard cartons or boxes if any\", '../images/')"
   ]
  },
  {
   "cell_type": "code",
   "execution_count": null,
   "metadata": {},
   "outputs": [],
   "source": [
    "import re\n",
    "\n",
    "def extract_points(text):\n",
    "    # Parse the <points> tag and extract relevant data\n",
    "    match = re.search(r'<points([^>]*)>(.*?)</points>', text)\n",
    "    if not match:\n",
    "        return None\n",
    "\n",
    "    attributes = match.group(1)\n",
    "    main_message = match.group(2)\n",
    "\n",
    "    # Extract the coordinates\n",
    "    x_coords = []\n",
    "    y_coords = []\n",
    "    alt_message = None\n",
    "\n",
    "    # Parse the attributes of the points tag\n",
    "    for attr in attributes.split():\n",
    "        if attr.startswith('x'):\n",
    "            x_coords.append(float(attr.split('=')[1].strip('\"')))\n",
    "        elif attr.startswith('y'):\n",
    "            y_coords.append(float(attr.split('=')[1].strip('\"')))\n",
    "        elif attr.startswith('alt'):\n",
    "            alt_message = re.search(r'alt=\"([^\"]*)\"', attributes).group(1)\n",
    "\n",
    "    return {\n",
    "        \"x_coordinates\": x_coords,\n",
    "        \"y_coordinates\": y_coords,\n",
    "        \"alt_message\": alt_message,\n",
    "        \"main_message\": main_message\n",
    "    }"
   ]
  },
  {
   "cell_type": "code",
   "execution_count": null,
   "metadata": {},
   "outputs": [],
   "source": [
    "# Example usage\n",
    "input_text = 'so this is <points x1=\"14.4\" y1=\"63.5\" x2=\"44.7\" y2=\"31.4\" x3=\"44.9\" y3=\"70.2\" x4=\"58.4\" y4=\"68.7\" x5=\"63.2\" y5=\"29.9\" x6=\"86.3\" y6=\"59.8\" x7=\"94.4\" y7=\"84.1\" x8=\"98.0\" y8=\"93.6\" alt=\"all main objects in the image\">all main objects in the image</points> and that is the answer'\n",
    "\n",
    "result = extract_points(input_text)\n",
    "print(result)"
   ]
  },
  {
   "cell_type": "code",
   "execution_count": null,
   "metadata": {},
   "outputs": [],
   "source": [
    "prompt1 = f\"\"\"\n",
    "Given this user query: \"{}\", list possible names of objects or entities that match closely with the query. Return the names in a json format.\\n\n",
    "\"\"\" + \"\"\"\n",
    "Eg if the query is \"go up the stairs\", the possible objects could be \"stairs\", \"staircase\", \"steps\"\n",
    "{\n",
    "    possible_objects: [\n",
    "        \"stairs\",\n",
    "        \"staircase\",\n",
    "        \"steps\"\n",
    "    ]\n",
    "}\n",
    "\"\"\""
   ]
  }
 ],
 "metadata": {
  "kernelspec": {
   "display_name": "vl2",
   "language": "python",
   "name": "python3"
  },
  "language_info": {
   "codemirror_mode": {
    "name": "ipython",
    "version": 3
   },
   "file_extension": ".py",
   "mimetype": "text/x-python",
   "name": "python",
   "nbconvert_exporter": "python",
   "pygments_lexer": "ipython3",
   "version": "3.10.15"
  }
 },
 "nbformat": 4,
 "nbformat_minor": 2
}
