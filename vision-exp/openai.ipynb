{
 "cells": [
  {
   "cell_type": "code",
   "execution_count": 17,
   "metadata": {},
   "outputs": [],
   "source": [
    "import requests\n",
    "from icecream import ic\n",
    "import os\n",
    "from dotenv import load_dotenv\n",
    "\n",
    "load_dotenv()\n",
    "\n",
    "def ask_text_query(text_prompt, model_name='gpt-4o-mini', api_base=\"https://api.openai.com/v1\", timeout=5):\n",
    "    # For 1 text query, return the output of the VLM\n",
    "    # Send the prompt to the API and get the results\n",
    "    try:\n",
    "        payload = {\n",
    "            \"model\": model_name,\n",
    "            \"messages\": [\n",
    "                {\n",
    "                    \"role\": \"user\",\n",
    "                    \"content\": text_prompt\n",
    "                }\n",
    "            ],\n",
    "        }\n",
    "\n",
    "        headers = {\n",
    "            \"Content-Type\": \"application/json\",\n",
    "            \"Authorization\": f\"Bearer {os.environ['OPENAI_API_KEY']}\",\n",
    "        }\n",
    "\n",
    "        # Set a specific timeout for the request\n",
    "        response = requests.post(f\"{api_base}/chat/completions\", json=payload, headers=headers, timeout=timeout)\n",
    "        data = response.json()\n",
    "        \n",
    "        ic(response.status_code)\n",
    "        ic(data)\n",
    "        \n",
    "        output = data['choices'][0]['message']['content']\n",
    "    \n",
    "    except Exception as e:\n",
    "        output = f\"Exception: {str(e)}\"\n",
    "\n",
    "    return output"
   ]
  },
  {
   "cell_type": "code",
   "execution_count": null,
   "metadata": {},
   "outputs": [],
   "source": [
    "user_query = \"go outside\"\n",
    "\n",
    "prompt1 = f\"\"\"\n",
    "Given is user query: \"{user_query}\".\n",
    "We are currently in an indoor environment that can be a warehouse, office, factory. Commands are given to a robot to navigate the environment.\n",
    "Which objects or entities could the user be referring to when they say \"{user_query}\"? The robot would then need to go to that object or entity.\n",
    "Remember that the robot should be able to go to the possible object and then perform an action suitable to the user query.\n",
    "Return the possible objects in a json format.\n",
    "\"\"\" + \"\"\"\n",
    "Eg if the query is \"go upstairs\", the possible objects could be \"stairs\", \"staircase\", \"steps\". Hence the json output would be:\n",
    "{\n",
    "    \"possible_objects\": [\n",
    "        \"stairs\",\n",
    "        \"staircase\",\n",
    "        \"steps\"\n",
    "    ]\n",
    "}\n",
    "\"\"\""
   ]
  },
  {
   "cell_type": "code",
   "execution_count": 13,
   "metadata": {},
   "outputs": [
    {
     "name": "stderr",
     "output_type": "stream",
     "text": [
      "ic| response.status_code: 200\n",
      "ic| data: {'choices': [{'finish_reason': 'stop',\n",
      "                        'index': 0,\n",
      "                        'logprobs': None,\n",
      "                        'message': {'content': '```json\n",
      "          '\n",
      "                                               '{\n",
      "          '\n",
      "                                               '    \"possible_objects\": [\n",
      "          '\n",
      "                                               '        \"exit door\",\n",
      "          '\n",
      "                                               '        \"main entrance\",\n",
      "          '\n",
      "                                               '        \"loading dock\",\n",
      "          '\n",
      "                                               '        \"emergency exit\",\n",
      "          '\n",
      "                                               '        \"window\",\n",
      "          '\n",
      "                                               '        \"outdoor area\",\n",
      "          '\n",
      "                                               '        \"patio\"\n",
      "          '\n",
      "                                               '    ]\n",
      "          '\n",
      "                                               '}\n",
      "          '\n",
      "                                               '```',\n",
      "                                    'refusal': None,\n",
      "                                    'role': 'assistant'}}],\n",
      "           'created': 1733320821,\n",
      "           'id': 'chatcmpl-AakDNNNJubp2P6kF6ncDeLNCgdLWA',\n",
      "           'model': 'gpt-4o-mini-2024-07-18',\n",
      "           'object': 'chat.completion',\n",
      "           'system_fingerprint': 'fp_0705bf87c0',\n",
      "           'usage': {'completion_tokens': 50,\n",
      "                     'completion_tokens_details': {'accepted_prediction_tokens': 0,\n",
      "                                                   'audio_tokens': 0,\n",
      "                                                   'reasoning_tokens': 0,\n",
      "                                                   'rejected_prediction_tokens': 0},\n",
      "                     'prompt_tokens': 157,\n",
      "                     'prompt_tokens_details': {'audio_tokens': 0, 'cached_tokens': 0},\n",
      "                     'total_tokens': 207}}\n"
     ]
    }
   ],
   "source": [
    "out = ask_text_query(prompt1)"
   ]
  },
  {
   "cell_type": "code",
   "execution_count": 16,
   "metadata": {},
   "outputs": [
    {
     "data": {
      "text/markdown": [
       "```json\n",
       "{\n",
       "    \"possible_objects\": [\n",
       "        \"exit door\",\n",
       "        \"main entrance\",\n",
       "        \"loading dock\",\n",
       "        \"emergency exit\",\n",
       "        \"window\",\n",
       "        \"outdoor area\",\n",
       "        \"patio\"\n",
       "    ]\n",
       "}\n",
       "```"
      ],
      "text/plain": [
       "<IPython.core.display.Markdown object>"
      ]
     },
     "execution_count": 16,
     "metadata": {},
     "output_type": "execute_result"
    }
   ],
   "source": [
    "from IPython.display import Markdown\n",
    "\n",
    "Markdown(out)"
   ]
  },
  {
   "cell_type": "code",
   "execution_count": 37,
   "metadata": {},
   "outputs": [],
   "source": [
    "# parse json output and check with pydantic model\n",
    "import json\n",
    "import re\n",
    "from pydantic import BaseModel\n",
    "from typing import List\n",
    "\n",
    "class PossibleObjects(BaseModel):\n",
    "    possible_objects: List[str]\n",
    "    \n",
    "    \n",
    "def postprocess_llm(response):\n",
    "    json_string = re.search(r'```json\\n(.*?)\\n```', response, re.DOTALL).group(1)\n",
    "    return PossibleObjects(**json.loads(json_string))\n"
   ]
  },
  {
   "cell_type": "code",
   "execution_count": 40,
   "metadata": {},
   "outputs": [
    {
     "name": "stdout",
     "output_type": "stream",
     "text": [
      "possible_objects=['exit door', 'main entrance', 'loading dock', 'emergency exit', 'window', 'outdoor area', 'patio']\n"
     ]
    }
   ],
   "source": [
    "obj = postprocess_llm(out)\n",
    "print(obj)"
   ]
  },
  {
   "cell_type": "code",
   "execution_count": null,
   "metadata": {},
   "outputs": [],
   "source": []
  }
 ],
 "metadata": {
  "kernelspec": {
   "display_name": "temp",
   "language": "python",
   "name": "python3"
  },
  "language_info": {
   "codemirror_mode": {
    "name": "ipython",
    "version": 3
   },
   "file_extension": ".py",
   "mimetype": "text/x-python",
   "name": "python",
   "nbconvert_exporter": "python",
   "pygments_lexer": "ipython3",
   "version": "3.10.14"
  }
 },
 "nbformat": 4,
 "nbformat_minor": 2
}
